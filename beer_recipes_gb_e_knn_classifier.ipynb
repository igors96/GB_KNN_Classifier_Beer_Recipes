{
  "metadata": {
    "kernelspec": {
      "language": "python",
      "display_name": "Python 3",
      "name": "python3"
    },
    "language_info": {
      "pygments_lexer": "ipython3",
      "nbconvert_exporter": "python",
      "version": "3.6.4",
      "file_extension": ".py",
      "codemirror_mode": {
        "name": "ipython",
        "version": 3
      },
      "name": "python",
      "mimetype": "text/x-python"
    },
    "colab": {
      "provenance": [],
      "include_colab_link": true
    }
  },
  "nbformat_minor": 0,
  "nbformat": 4,
  "cells": [
    {
      "cell_type": "markdown",
      "metadata": {
        "id": "view-in-github",
        "colab_type": "text"
      },
      "source": [
        "<a href=\"https://colab.research.google.com/github/igors96/GB_KNN_Classifier_Beer_Recipes/blob/main/beer_recipes_gb_e_knn_classifier.ipynb\" target=\"_parent\"><img src=\"https://colab.research.google.com/assets/colab-badge.svg\" alt=\"Open In Colab\"/></a>"
      ]
    },
    {
      "cell_type": "code",
      "source": [
        "import pandas as pd\n",
        "pd.set_option('display.max_columns', 23)\n",
        "pd.set_option(\"display.max_rows\", None)\n",
        "cerveja = pd.read_csv('/content/recipeData.csv', encoding = 'ISO 8859-1')"
      ],
      "metadata": {
        "execution": {
          "iopub.status.busy": "2022-10-20T19:42:41.042156Z",
          "iopub.execute_input": "2022-10-20T19:42:41.042558Z",
          "iopub.status.idle": "2022-10-20T19:42:41.550342Z",
          "shell.execute_reply.started": "2022-10-20T19:42:41.042461Z",
          "shell.execute_reply": "2022-10-20T19:42:41.549608Z"
        },
        "trusted": true,
        "id": "OA6tmBzOue6T"
      },
      "execution_count": 1,
      "outputs": []
    },
    {
      "cell_type": "code",
      "source": [
        "cerveja.head()"
      ],
      "metadata": {
        "execution": {
          "iopub.status.busy": "2022-10-20T19:42:41.551945Z",
          "iopub.execute_input": "2022-10-20T19:42:41.552304Z",
          "iopub.status.idle": "2022-10-20T19:42:41.586360Z",
          "shell.execute_reply.started": "2022-10-20T19:42:41.552276Z",
          "shell.execute_reply": "2022-10-20T19:42:41.585418Z"
        },
        "trusted": true,
        "colab": {
          "base_uri": "https://localhost:8080/",
          "height": 530
        },
        "id": "RFrtEEy3ue6c",
        "outputId": "a2a45584-fe82-496a-add2-019668068c79"
      },
      "execution_count": 2,
      "outputs": [
        {
          "output_type": "execute_result",
          "data": {
            "text/plain": [
              "   BeerID                             Name  \\\n",
              "0       1                Vanilla Cream Ale   \n",
              "1       2      Southern Tier Pumking clone   \n",
              "2       3      Zombie Dust Clone - EXTRACT   \n",
              "3       4    Zombie Dust Clone - ALL GRAIN   \n",
              "4       5  Bakke Brygg Belgisk Blonde 50 l   \n",
              "\n",
              "                                                 URL  \\\n",
              "0       /homebrew/recipe/view/1633/vanilla-cream-ale   \n",
              "1  /homebrew/recipe/view/16367/southern-tier-pumk...   \n",
              "2  /homebrew/recipe/view/5920/zombie-dust-clone-e...   \n",
              "3  /homebrew/recipe/view/5916/zombie-dust-clone-a...   \n",
              "4  /homebrew/recipe/view/89534/bakke-brygg-belgis...   \n",
              "\n",
              "                                Style  StyleID  Size(L)     OG     FG   ABV  \\\n",
              "0                           Cream Ale       45    21.77  1.055  1.013  5.48   \n",
              "1  Holiday/Winter Special Spiced Beer       85    20.82  1.083  1.021  8.16   \n",
              "2                        American IPA        7    18.93  1.063  1.018  5.91   \n",
              "3                        American IPA        7    22.71  1.061  1.017  5.80   \n",
              "4                   Belgian Blond Ale       20    50.00  1.060  1.010  6.48   \n",
              "\n",
              "     IBU  Color  BoilSize  BoilTime  BoilGravity  Efficiency  MashThickness  \\\n",
              "0  17.65   4.83     28.39      75.0        1.038        70.0            NaN   \n",
              "1  60.65  15.64     24.61      60.0        1.070        70.0            NaN   \n",
              "2  59.25   8.98     22.71      60.0          NaN        70.0            NaN   \n",
              "3  54.48   8.50     26.50      60.0          NaN        70.0            NaN   \n",
              "4  17.84   4.57     60.00      90.0        1.050        72.0            NaN   \n",
              "\n",
              "         SugarScale BrewMethod  PitchRate  PrimaryTemp PrimingMethod  \\\n",
              "0  Specific Gravity  All Grain        NaN        17.78    corn sugar   \n",
              "1  Specific Gravity  All Grain        NaN          NaN           NaN   \n",
              "2  Specific Gravity    extract        NaN          NaN           NaN   \n",
              "3  Specific Gravity  All Grain        NaN          NaN           NaN   \n",
              "4  Specific Gravity  All Grain        NaN        19.00    Sukkerlake   \n",
              "\n",
              "    PrimingAmount   UserId  \n",
              "0          4.5 oz    116.0  \n",
              "1             NaN    955.0  \n",
              "2             NaN      NaN  \n",
              "3             NaN      NaN  \n",
              "4  6-7 g sukker/l  18325.0  "
            ],
            "text/html": [
              "\n",
              "  <div id=\"df-ed7007ab-6d39-45df-85f3-e7f5096d3e6b\">\n",
              "    <div class=\"colab-df-container\">\n",
              "      <div>\n",
              "<style scoped>\n",
              "    .dataframe tbody tr th:only-of-type {\n",
              "        vertical-align: middle;\n",
              "    }\n",
              "\n",
              "    .dataframe tbody tr th {\n",
              "        vertical-align: top;\n",
              "    }\n",
              "\n",
              "    .dataframe thead th {\n",
              "        text-align: right;\n",
              "    }\n",
              "</style>\n",
              "<table border=\"1\" class=\"dataframe\">\n",
              "  <thead>\n",
              "    <tr style=\"text-align: right;\">\n",
              "      <th></th>\n",
              "      <th>BeerID</th>\n",
              "      <th>Name</th>\n",
              "      <th>URL</th>\n",
              "      <th>Style</th>\n",
              "      <th>StyleID</th>\n",
              "      <th>Size(L)</th>\n",
              "      <th>OG</th>\n",
              "      <th>FG</th>\n",
              "      <th>ABV</th>\n",
              "      <th>IBU</th>\n",
              "      <th>Color</th>\n",
              "      <th>BoilSize</th>\n",
              "      <th>BoilTime</th>\n",
              "      <th>BoilGravity</th>\n",
              "      <th>Efficiency</th>\n",
              "      <th>MashThickness</th>\n",
              "      <th>SugarScale</th>\n",
              "      <th>BrewMethod</th>\n",
              "      <th>PitchRate</th>\n",
              "      <th>PrimaryTemp</th>\n",
              "      <th>PrimingMethod</th>\n",
              "      <th>PrimingAmount</th>\n",
              "      <th>UserId</th>\n",
              "    </tr>\n",
              "  </thead>\n",
              "  <tbody>\n",
              "    <tr>\n",
              "      <th>0</th>\n",
              "      <td>1</td>\n",
              "      <td>Vanilla Cream Ale</td>\n",
              "      <td>/homebrew/recipe/view/1633/vanilla-cream-ale</td>\n",
              "      <td>Cream Ale</td>\n",
              "      <td>45</td>\n",
              "      <td>21.77</td>\n",
              "      <td>1.055</td>\n",
              "      <td>1.013</td>\n",
              "      <td>5.48</td>\n",
              "      <td>17.65</td>\n",
              "      <td>4.83</td>\n",
              "      <td>28.39</td>\n",
              "      <td>75.0</td>\n",
              "      <td>1.038</td>\n",
              "      <td>70.0</td>\n",
              "      <td>NaN</td>\n",
              "      <td>Specific Gravity</td>\n",
              "      <td>All Grain</td>\n",
              "      <td>NaN</td>\n",
              "      <td>17.78</td>\n",
              "      <td>corn sugar</td>\n",
              "      <td>4.5 oz</td>\n",
              "      <td>116.0</td>\n",
              "    </tr>\n",
              "    <tr>\n",
              "      <th>1</th>\n",
              "      <td>2</td>\n",
              "      <td>Southern Tier Pumking clone</td>\n",
              "      <td>/homebrew/recipe/view/16367/southern-tier-pumk...</td>\n",
              "      <td>Holiday/Winter Special Spiced Beer</td>\n",
              "      <td>85</td>\n",
              "      <td>20.82</td>\n",
              "      <td>1.083</td>\n",
              "      <td>1.021</td>\n",
              "      <td>8.16</td>\n",
              "      <td>60.65</td>\n",
              "      <td>15.64</td>\n",
              "      <td>24.61</td>\n",
              "      <td>60.0</td>\n",
              "      <td>1.070</td>\n",
              "      <td>70.0</td>\n",
              "      <td>NaN</td>\n",
              "      <td>Specific Gravity</td>\n",
              "      <td>All Grain</td>\n",
              "      <td>NaN</td>\n",
              "      <td>NaN</td>\n",
              "      <td>NaN</td>\n",
              "      <td>NaN</td>\n",
              "      <td>955.0</td>\n",
              "    </tr>\n",
              "    <tr>\n",
              "      <th>2</th>\n",
              "      <td>3</td>\n",
              "      <td>Zombie Dust Clone - EXTRACT</td>\n",
              "      <td>/homebrew/recipe/view/5920/zombie-dust-clone-e...</td>\n",
              "      <td>American IPA</td>\n",
              "      <td>7</td>\n",
              "      <td>18.93</td>\n",
              "      <td>1.063</td>\n",
              "      <td>1.018</td>\n",
              "      <td>5.91</td>\n",
              "      <td>59.25</td>\n",
              "      <td>8.98</td>\n",
              "      <td>22.71</td>\n",
              "      <td>60.0</td>\n",
              "      <td>NaN</td>\n",
              "      <td>70.0</td>\n",
              "      <td>NaN</td>\n",
              "      <td>Specific Gravity</td>\n",
              "      <td>extract</td>\n",
              "      <td>NaN</td>\n",
              "      <td>NaN</td>\n",
              "      <td>NaN</td>\n",
              "      <td>NaN</td>\n",
              "      <td>NaN</td>\n",
              "    </tr>\n",
              "    <tr>\n",
              "      <th>3</th>\n",
              "      <td>4</td>\n",
              "      <td>Zombie Dust Clone - ALL GRAIN</td>\n",
              "      <td>/homebrew/recipe/view/5916/zombie-dust-clone-a...</td>\n",
              "      <td>American IPA</td>\n",
              "      <td>7</td>\n",
              "      <td>22.71</td>\n",
              "      <td>1.061</td>\n",
              "      <td>1.017</td>\n",
              "      <td>5.80</td>\n",
              "      <td>54.48</td>\n",
              "      <td>8.50</td>\n",
              "      <td>26.50</td>\n",
              "      <td>60.0</td>\n",
              "      <td>NaN</td>\n",
              "      <td>70.0</td>\n",
              "      <td>NaN</td>\n",
              "      <td>Specific Gravity</td>\n",
              "      <td>All Grain</td>\n",
              "      <td>NaN</td>\n",
              "      <td>NaN</td>\n",
              "      <td>NaN</td>\n",
              "      <td>NaN</td>\n",
              "      <td>NaN</td>\n",
              "    </tr>\n",
              "    <tr>\n",
              "      <th>4</th>\n",
              "      <td>5</td>\n",
              "      <td>Bakke Brygg Belgisk Blonde 50 l</td>\n",
              "      <td>/homebrew/recipe/view/89534/bakke-brygg-belgis...</td>\n",
              "      <td>Belgian Blond Ale</td>\n",
              "      <td>20</td>\n",
              "      <td>50.00</td>\n",
              "      <td>1.060</td>\n",
              "      <td>1.010</td>\n",
              "      <td>6.48</td>\n",
              "      <td>17.84</td>\n",
              "      <td>4.57</td>\n",
              "      <td>60.00</td>\n",
              "      <td>90.0</td>\n",
              "      <td>1.050</td>\n",
              "      <td>72.0</td>\n",
              "      <td>NaN</td>\n",
              "      <td>Specific Gravity</td>\n",
              "      <td>All Grain</td>\n",
              "      <td>NaN</td>\n",
              "      <td>19.00</td>\n",
              "      <td>Sukkerlake</td>\n",
              "      <td>6-7 g sukker/l</td>\n",
              "      <td>18325.0</td>\n",
              "    </tr>\n",
              "  </tbody>\n",
              "</table>\n",
              "</div>\n",
              "      <button class=\"colab-df-convert\" onclick=\"convertToInteractive('df-ed7007ab-6d39-45df-85f3-e7f5096d3e6b')\"\n",
              "              title=\"Convert this dataframe to an interactive table.\"\n",
              "              style=\"display:none;\">\n",
              "        \n",
              "  <svg xmlns=\"http://www.w3.org/2000/svg\" height=\"24px\"viewBox=\"0 0 24 24\"\n",
              "       width=\"24px\">\n",
              "    <path d=\"M0 0h24v24H0V0z\" fill=\"none\"/>\n",
              "    <path d=\"M18.56 5.44l.94 2.06.94-2.06 2.06-.94-2.06-.94-.94-2.06-.94 2.06-2.06.94zm-11 1L8.5 8.5l.94-2.06 2.06-.94-2.06-.94L8.5 2.5l-.94 2.06-2.06.94zm10 10l.94 2.06.94-2.06 2.06-.94-2.06-.94-.94-2.06-.94 2.06-2.06.94z\"/><path d=\"M17.41 7.96l-1.37-1.37c-.4-.4-.92-.59-1.43-.59-.52 0-1.04.2-1.43.59L10.3 9.45l-7.72 7.72c-.78.78-.78 2.05 0 2.83L4 21.41c.39.39.9.59 1.41.59.51 0 1.02-.2 1.41-.59l7.78-7.78 2.81-2.81c.8-.78.8-2.07 0-2.86zM5.41 20L4 18.59l7.72-7.72 1.47 1.35L5.41 20z\"/>\n",
              "  </svg>\n",
              "      </button>\n",
              "      \n",
              "  <style>\n",
              "    .colab-df-container {\n",
              "      display:flex;\n",
              "      flex-wrap:wrap;\n",
              "      gap: 12px;\n",
              "    }\n",
              "\n",
              "    .colab-df-convert {\n",
              "      background-color: #E8F0FE;\n",
              "      border: none;\n",
              "      border-radius: 50%;\n",
              "      cursor: pointer;\n",
              "      display: none;\n",
              "      fill: #1967D2;\n",
              "      height: 32px;\n",
              "      padding: 0 0 0 0;\n",
              "      width: 32px;\n",
              "    }\n",
              "\n",
              "    .colab-df-convert:hover {\n",
              "      background-color: #E2EBFA;\n",
              "      box-shadow: 0px 1px 2px rgba(60, 64, 67, 0.3), 0px 1px 3px 1px rgba(60, 64, 67, 0.15);\n",
              "      fill: #174EA6;\n",
              "    }\n",
              "\n",
              "    [theme=dark] .colab-df-convert {\n",
              "      background-color: #3B4455;\n",
              "      fill: #D2E3FC;\n",
              "    }\n",
              "\n",
              "    [theme=dark] .colab-df-convert:hover {\n",
              "      background-color: #434B5C;\n",
              "      box-shadow: 0px 1px 3px 1px rgba(0, 0, 0, 0.15);\n",
              "      filter: drop-shadow(0px 1px 2px rgba(0, 0, 0, 0.3));\n",
              "      fill: #FFFFFF;\n",
              "    }\n",
              "  </style>\n",
              "\n",
              "      <script>\n",
              "        const buttonEl =\n",
              "          document.querySelector('#df-ed7007ab-6d39-45df-85f3-e7f5096d3e6b button.colab-df-convert');\n",
              "        buttonEl.style.display =\n",
              "          google.colab.kernel.accessAllowed ? 'block' : 'none';\n",
              "\n",
              "        async function convertToInteractive(key) {\n",
              "          const element = document.querySelector('#df-ed7007ab-6d39-45df-85f3-e7f5096d3e6b');\n",
              "          const dataTable =\n",
              "            await google.colab.kernel.invokeFunction('convertToInteractive',\n",
              "                                                     [key], {});\n",
              "          if (!dataTable) return;\n",
              "\n",
              "          const docLinkHtml = 'Like what you see? Visit the ' +\n",
              "            '<a target=\"_blank\" href=https://colab.research.google.com/notebooks/data_table.ipynb>data table notebook</a>'\n",
              "            + ' to learn more about interactive tables.';\n",
              "          element.innerHTML = '';\n",
              "          dataTable['output_type'] = 'display_data';\n",
              "          await google.colab.output.renderOutput(dataTable, element);\n",
              "          const docLink = document.createElement('div');\n",
              "          docLink.innerHTML = docLinkHtml;\n",
              "          element.appendChild(docLink);\n",
              "        }\n",
              "      </script>\n",
              "    </div>\n",
              "  </div>\n",
              "  "
            ]
          },
          "metadata": {},
          "execution_count": 2
        }
      ]
    },
    {
      "cell_type": "code",
      "source": [
        "cerveja.shape"
      ],
      "metadata": {
        "execution": {
          "iopub.status.busy": "2022-10-20T19:42:41.587474Z",
          "iopub.execute_input": "2022-10-20T19:42:41.587739Z",
          "iopub.status.idle": "2022-10-20T19:42:41.594288Z",
          "shell.execute_reply.started": "2022-10-20T19:42:41.587707Z",
          "shell.execute_reply": "2022-10-20T19:42:41.593142Z"
        },
        "trusted": true,
        "colab": {
          "base_uri": "https://localhost:8080/"
        },
        "id": "4hKg-rGfue6d",
        "outputId": "1db28430-4c92-4186-f0c9-f68e046f748a"
      },
      "execution_count": 3,
      "outputs": [
        {
          "output_type": "execute_result",
          "data": {
            "text/plain": [
              "(16256, 23)"
            ]
          },
          "metadata": {},
          "execution_count": 3
        }
      ]
    },
    {
      "cell_type": "code",
      "source": [
        "faltantes = cerveja.isnull().sum()\n",
        "faltantes_percentual = (faltantes / len(cerveja['BeerID']))*100\n",
        "print(faltantes_percentual)"
      ],
      "metadata": {
        "execution": {
          "iopub.status.busy": "2022-10-20T19:42:41.596234Z",
          "iopub.execute_input": "2022-10-20T19:42:41.596642Z",
          "iopub.status.idle": "2022-10-20T19:42:41.635984Z",
          "shell.execute_reply.started": "2022-10-20T19:42:41.596611Z",
          "shell.execute_reply": "2022-10-20T19:42:41.635425Z"
        },
        "trusted": true,
        "colab": {
          "base_uri": "https://localhost:8080/"
        },
        "id": "1yaBvI4uue6e",
        "outputId": "75f5f6d6-b059-4a75-943f-49791ec83222"
      },
      "execution_count": 4,
      "outputs": [
        {
          "output_type": "stream",
          "name": "stdout",
          "text": [
            "BeerID            0.000000\n",
            "Name              0.000000\n",
            "URL               0.000000\n",
            "Style             1.427165\n",
            "StyleID           0.000000\n",
            "Size(L)           0.000000\n",
            "OG                0.000000\n",
            "FG                0.000000\n",
            "ABV               0.000000\n",
            "IBU               0.006152\n",
            "Color             0.006152\n",
            "BoilSize          0.006152\n",
            "BoilTime          0.006152\n",
            "BoilGravity      17.421260\n",
            "Efficiency        0.006152\n",
            "MashThickness    53.709400\n",
            "SugarScale        0.006152\n",
            "BrewMethod        0.006152\n",
            "PitchRate        53.660187\n",
            "PrimaryTemp      34.510335\n",
            "PrimingMethod    85.820620\n",
            "PrimingAmount    89.314715\n",
            "UserId           56.379183\n",
            "dtype: float64\n"
          ]
        }
      ]
    },
    {
      "cell_type": "code",
      "source": [
        "cerveja['StyleID'].value_counts()"
      ],
      "metadata": {
        "execution": {
          "iopub.status.busy": "2022-10-20T19:42:41.637212Z",
          "iopub.execute_input": "2022-10-20T19:42:41.637639Z",
          "iopub.status.idle": "2022-10-20T19:42:41.648432Z",
          "shell.execute_reply.started": "2022-10-20T19:42:41.637610Z",
          "shell.execute_reply": "2022-10-20T19:42:41.647825Z"
        },
        "trusted": true,
        "colab": {
          "base_uri": "https://localhost:8080/"
        },
        "id": "qnZ_Ylggue6f",
        "outputId": "d7171a4d-15d5-4fce-c16d-2d91577a6d4d"
      },
      "execution_count": 5,
      "outputs": [
        {
          "output_type": "execute_result",
          "data": {
            "text/plain": [
              "7      2494\n",
              "10     1363\n",
              "86      626\n",
              "134     502\n",
              "4       497\n",
              "30      344\n",
              "132     331\n",
              "129     331\n",
              "170     326\n",
              "175     324\n",
              "12      298\n",
              "6       286\n",
              "15      261\n",
              "92      260\n",
              "162     252\n",
              "111     232\n",
              "39      231\n",
              "114     229\n",
              "145     229\n",
              "68      220\n",
              "45      201\n",
              "65      189\n",
              "25      163\n",
              "94      162\n",
              "26      145\n",
              "20      143\n",
              "85      139\n",
              "21      133\n",
              "75      133\n",
              "115     131\n",
              "144     130\n",
              "155     129\n",
              "5       127\n",
              "37      123\n",
              "58      120\n",
              "24      113\n",
              "19      109\n",
              "31      108\n",
              "72      105\n",
              "22      104\n",
              "113     104\n",
              "23      101\n",
              "105     100\n",
              "116      99\n",
              "81       98\n",
              "87       94\n",
              "160      87\n",
              "167      84\n",
              "59       80\n",
              "27       80\n",
              "56       71\n",
              "157      70\n",
              "148      67\n",
              "63       64\n",
              "169      64\n",
              "109      63\n",
              "171      62\n",
              "40       59\n",
              "14       55\n",
              "120      55\n",
              "150      55\n",
              "54       54\n",
              "108      51\n",
              "11       50\n",
              "137      49\n",
              "103      48\n",
              "135      47\n",
              "29       47\n",
              "9        46\n",
              "124      46\n",
              "51       45\n",
              "176      44\n",
              "43       44\n",
              "143      44\n",
              "71       40\n",
              "44       40\n",
              "159      39\n",
              "67       37\n",
              "163      37\n",
              "32       34\n",
              "8        34\n",
              "34       33\n",
              "28       33\n",
              "112      32\n",
              "100      32\n",
              "52       31\n",
              "131      30\n",
              "152      30\n",
              "139      30\n",
              "106      28\n",
              "77       28\n",
              "1        28\n",
              "82       26\n",
              "13       26\n",
              "151      26\n",
              "80       26\n",
              "119      25\n",
              "35       25\n",
              "57       24\n",
              "50       24\n",
              "66       24\n",
              "90       24\n",
              "156      24\n",
              "93       24\n",
              "158      21\n",
              "118      21\n",
              "174      21\n",
              "147      21\n",
              "36       20\n",
              "165      20\n",
              "64       19\n",
              "70       18\n",
              "142      18\n",
              "141      18\n",
              "41       18\n",
              "102      18\n",
              "121      18\n",
              "161      18\n",
              "49       17\n",
              "55       17\n",
              "136      17\n",
              "61       16\n",
              "38       16\n",
              "168      15\n",
              "153      14\n",
              "149      13\n",
              "107      13\n",
              "53       13\n",
              "84       12\n",
              "88       12\n",
              "48       12\n",
              "76       12\n",
              "17       12\n",
              "104      12\n",
              "83       11\n",
              "42       11\n",
              "146      11\n",
              "98       11\n",
              "91       11\n",
              "172      11\n",
              "140      10\n",
              "46       10\n",
              "128      10\n",
              "166      10\n",
              "117      10\n",
              "125      10\n",
              "97        9\n",
              "74        9\n",
              "173       9\n",
              "2         9\n",
              "33        8\n",
              "69        8\n",
              "138       8\n",
              "78        8\n",
              "79        8\n",
              "96        7\n",
              "133       7\n",
              "47        7\n",
              "130       7\n",
              "89        7\n",
              "122       6\n",
              "18        6\n",
              "62        6\n",
              "126       5\n",
              "3         5\n",
              "60        5\n",
              "110       4\n",
              "95        4\n",
              "16        4\n",
              "154       4\n",
              "123       3\n",
              "99        3\n",
              "101       2\n",
              "164       2\n",
              "127       2\n",
              "73        2\n",
              "Name: StyleID, dtype: int64"
            ]
          },
          "metadata": {},
          "execution_count": 5
        }
      ]
    },
    {
      "cell_type": "code",
      "source": [
        "selecao = cerveja.loc[cerveja['StyleID'].isin([7,10,134,9,4,30,86,12,92,6,175,39])]"
      ],
      "metadata": {
        "execution": {
          "iopub.status.busy": "2022-10-20T19:42:41.649555Z",
          "iopub.execute_input": "2022-10-20T19:42:41.649746Z",
          "iopub.status.idle": "2022-10-20T19:42:41.670111Z",
          "shell.execute_reply.started": "2022-10-20T19:42:41.649724Z",
          "shell.execute_reply": "2022-10-20T19:42:41.669328Z"
        },
        "trusted": true,
        "id": "c-f5lBo9ue6g"
      },
      "execution_count": 6,
      "outputs": []
    },
    {
      "cell_type": "code",
      "source": [
        "selecao.shape"
      ],
      "metadata": {
        "execution": {
          "iopub.status.busy": "2022-10-20T19:42:41.671223Z",
          "iopub.execute_input": "2022-10-20T19:42:41.671732Z",
          "iopub.status.idle": "2022-10-20T19:42:41.678201Z",
          "shell.execute_reply.started": "2022-10-20T19:42:41.671701Z",
          "shell.execute_reply": "2022-10-20T19:42:41.677363Z"
        },
        "trusted": true,
        "colab": {
          "base_uri": "https://localhost:8080/"
        },
        "id": "UMFnvE_zue6h",
        "outputId": "ba40f09d-68fb-4652-9662-b8bf49a86428"
      },
      "execution_count": 7,
      "outputs": [
        {
          "output_type": "execute_result",
          "data": {
            "text/plain": [
              "(7271, 23)"
            ]
          },
          "metadata": {},
          "execution_count": 7
        }
      ]
    },
    {
      "cell_type": "code",
      "source": [
        "selecao.drop(['BeerID', 'Name', 'URL', 'Style', 'UserId', 'PrimingMethod', 'PrimingAmount'], axis = 1, inplace = True)"
      ],
      "metadata": {
        "execution": {
          "iopub.status.busy": "2022-10-20T19:42:41.679160Z",
          "iopub.execute_input": "2022-10-20T19:42:41.680042Z",
          "iopub.status.idle": "2022-10-20T19:42:41.697077Z",
          "shell.execute_reply.started": "2022-10-20T19:42:41.679993Z",
          "shell.execute_reply": "2022-10-20T19:42:41.695738Z"
        },
        "trusted": true,
        "colab": {
          "base_uri": "https://localhost:8080/"
        },
        "id": "E5rXtAAbue6i",
        "outputId": "1055a606-9e20-4d67-ed3e-d90a341a6935"
      },
      "execution_count": 8,
      "outputs": [
        {
          "output_type": "stream",
          "name": "stderr",
          "text": [
            "/usr/local/lib/python3.7/dist-packages/pandas/core/frame.py:4913: SettingWithCopyWarning: \n",
            "A value is trying to be set on a copy of a slice from a DataFrame\n",
            "\n",
            "See the caveats in the documentation: https://pandas.pydata.org/pandas-docs/stable/user_guide/indexing.html#returning-a-view-versus-a-copy\n",
            "  errors=errors,\n"
          ]
        }
      ]
    },
    {
      "cell_type": "code",
      "source": [
        "selecao.head()"
      ],
      "metadata": {
        "execution": {
          "iopub.status.busy": "2022-10-20T19:42:41.698557Z",
          "iopub.execute_input": "2022-10-20T19:42:41.698794Z",
          "iopub.status.idle": "2022-10-20T19:42:41.723387Z",
          "shell.execute_reply.started": "2022-10-20T19:42:41.698768Z",
          "shell.execute_reply": "2022-10-20T19:42:41.722586Z"
        },
        "trusted": true,
        "colab": {
          "base_uri": "https://localhost:8080/",
          "height": 357
        },
        "id": "dBetti_gue6j",
        "outputId": "76a75ef8-1ade-4ba9-b535-fee042f6435c"
      },
      "execution_count": 9,
      "outputs": [
        {
          "output_type": "execute_result",
          "data": {
            "text/plain": [
              "   StyleID  Size(L)     OG     FG   ABV     IBU  Color  BoilSize  BoilTime  \\\n",
              "2        7    18.93  1.063  1.018  5.91   59.25   8.98     22.71      60.0   \n",
              "3        7    22.71  1.061  1.017  5.80   54.48   8.50     26.50      60.0   \n",
              "5       10    24.61  1.055  1.013  5.58   40.12   8.00     29.34      70.0   \n",
              "6       86    22.71  1.072  1.018  7.09  268.71   6.33     30.28      90.0   \n",
              "9       86    20.82  1.080  1.017  8.22   93.02   8.29     28.39      60.0   \n",
              "\n",
              "   BoilGravity  Efficiency  MashThickness        SugarScale BrewMethod  \\\n",
              "2          NaN        70.0            NaN  Specific Gravity    extract   \n",
              "3          NaN        70.0            NaN  Specific Gravity  All Grain   \n",
              "5        1.047        79.0            NaN  Specific Gravity  All Grain   \n",
              "6          NaN        75.0            NaN  Specific Gravity  All Grain   \n",
              "9        1.058        70.0            NaN  Specific Gravity  All Grain   \n",
              "\n",
              "   PitchRate  PrimaryTemp  \n",
              "2        NaN          NaN  \n",
              "3        NaN          NaN  \n",
              "5        1.0          NaN  \n",
              "6        NaN          NaN  \n",
              "9        NaN        21.11  "
            ],
            "text/html": [
              "\n",
              "  <div id=\"df-5e1e1b94-8d66-47a8-9603-19e47214f814\">\n",
              "    <div class=\"colab-df-container\">\n",
              "      <div>\n",
              "<style scoped>\n",
              "    .dataframe tbody tr th:only-of-type {\n",
              "        vertical-align: middle;\n",
              "    }\n",
              "\n",
              "    .dataframe tbody tr th {\n",
              "        vertical-align: top;\n",
              "    }\n",
              "\n",
              "    .dataframe thead th {\n",
              "        text-align: right;\n",
              "    }\n",
              "</style>\n",
              "<table border=\"1\" class=\"dataframe\">\n",
              "  <thead>\n",
              "    <tr style=\"text-align: right;\">\n",
              "      <th></th>\n",
              "      <th>StyleID</th>\n",
              "      <th>Size(L)</th>\n",
              "      <th>OG</th>\n",
              "      <th>FG</th>\n",
              "      <th>ABV</th>\n",
              "      <th>IBU</th>\n",
              "      <th>Color</th>\n",
              "      <th>BoilSize</th>\n",
              "      <th>BoilTime</th>\n",
              "      <th>BoilGravity</th>\n",
              "      <th>Efficiency</th>\n",
              "      <th>MashThickness</th>\n",
              "      <th>SugarScale</th>\n",
              "      <th>BrewMethod</th>\n",
              "      <th>PitchRate</th>\n",
              "      <th>PrimaryTemp</th>\n",
              "    </tr>\n",
              "  </thead>\n",
              "  <tbody>\n",
              "    <tr>\n",
              "      <th>2</th>\n",
              "      <td>7</td>\n",
              "      <td>18.93</td>\n",
              "      <td>1.063</td>\n",
              "      <td>1.018</td>\n",
              "      <td>5.91</td>\n",
              "      <td>59.25</td>\n",
              "      <td>8.98</td>\n",
              "      <td>22.71</td>\n",
              "      <td>60.0</td>\n",
              "      <td>NaN</td>\n",
              "      <td>70.0</td>\n",
              "      <td>NaN</td>\n",
              "      <td>Specific Gravity</td>\n",
              "      <td>extract</td>\n",
              "      <td>NaN</td>\n",
              "      <td>NaN</td>\n",
              "    </tr>\n",
              "    <tr>\n",
              "      <th>3</th>\n",
              "      <td>7</td>\n",
              "      <td>22.71</td>\n",
              "      <td>1.061</td>\n",
              "      <td>1.017</td>\n",
              "      <td>5.80</td>\n",
              "      <td>54.48</td>\n",
              "      <td>8.50</td>\n",
              "      <td>26.50</td>\n",
              "      <td>60.0</td>\n",
              "      <td>NaN</td>\n",
              "      <td>70.0</td>\n",
              "      <td>NaN</td>\n",
              "      <td>Specific Gravity</td>\n",
              "      <td>All Grain</td>\n",
              "      <td>NaN</td>\n",
              "      <td>NaN</td>\n",
              "    </tr>\n",
              "    <tr>\n",
              "      <th>5</th>\n",
              "      <td>10</td>\n",
              "      <td>24.61</td>\n",
              "      <td>1.055</td>\n",
              "      <td>1.013</td>\n",
              "      <td>5.58</td>\n",
              "      <td>40.12</td>\n",
              "      <td>8.00</td>\n",
              "      <td>29.34</td>\n",
              "      <td>70.0</td>\n",
              "      <td>1.047</td>\n",
              "      <td>79.0</td>\n",
              "      <td>NaN</td>\n",
              "      <td>Specific Gravity</td>\n",
              "      <td>All Grain</td>\n",
              "      <td>1.0</td>\n",
              "      <td>NaN</td>\n",
              "    </tr>\n",
              "    <tr>\n",
              "      <th>6</th>\n",
              "      <td>86</td>\n",
              "      <td>22.71</td>\n",
              "      <td>1.072</td>\n",
              "      <td>1.018</td>\n",
              "      <td>7.09</td>\n",
              "      <td>268.71</td>\n",
              "      <td>6.33</td>\n",
              "      <td>30.28</td>\n",
              "      <td>90.0</td>\n",
              "      <td>NaN</td>\n",
              "      <td>75.0</td>\n",
              "      <td>NaN</td>\n",
              "      <td>Specific Gravity</td>\n",
              "      <td>All Grain</td>\n",
              "      <td>NaN</td>\n",
              "      <td>NaN</td>\n",
              "    </tr>\n",
              "    <tr>\n",
              "      <th>9</th>\n",
              "      <td>86</td>\n",
              "      <td>20.82</td>\n",
              "      <td>1.080</td>\n",
              "      <td>1.017</td>\n",
              "      <td>8.22</td>\n",
              "      <td>93.02</td>\n",
              "      <td>8.29</td>\n",
              "      <td>28.39</td>\n",
              "      <td>60.0</td>\n",
              "      <td>1.058</td>\n",
              "      <td>70.0</td>\n",
              "      <td>NaN</td>\n",
              "      <td>Specific Gravity</td>\n",
              "      <td>All Grain</td>\n",
              "      <td>NaN</td>\n",
              "      <td>21.11</td>\n",
              "    </tr>\n",
              "  </tbody>\n",
              "</table>\n",
              "</div>\n",
              "      <button class=\"colab-df-convert\" onclick=\"convertToInteractive('df-5e1e1b94-8d66-47a8-9603-19e47214f814')\"\n",
              "              title=\"Convert this dataframe to an interactive table.\"\n",
              "              style=\"display:none;\">\n",
              "        \n",
              "  <svg xmlns=\"http://www.w3.org/2000/svg\" height=\"24px\"viewBox=\"0 0 24 24\"\n",
              "       width=\"24px\">\n",
              "    <path d=\"M0 0h24v24H0V0z\" fill=\"none\"/>\n",
              "    <path d=\"M18.56 5.44l.94 2.06.94-2.06 2.06-.94-2.06-.94-.94-2.06-.94 2.06-2.06.94zm-11 1L8.5 8.5l.94-2.06 2.06-.94-2.06-.94L8.5 2.5l-.94 2.06-2.06.94zm10 10l.94 2.06.94-2.06 2.06-.94-2.06-.94-.94-2.06-.94 2.06-2.06.94z\"/><path d=\"M17.41 7.96l-1.37-1.37c-.4-.4-.92-.59-1.43-.59-.52 0-1.04.2-1.43.59L10.3 9.45l-7.72 7.72c-.78.78-.78 2.05 0 2.83L4 21.41c.39.39.9.59 1.41.59.51 0 1.02-.2 1.41-.59l7.78-7.78 2.81-2.81c.8-.78.8-2.07 0-2.86zM5.41 20L4 18.59l7.72-7.72 1.47 1.35L5.41 20z\"/>\n",
              "  </svg>\n",
              "      </button>\n",
              "      \n",
              "  <style>\n",
              "    .colab-df-container {\n",
              "      display:flex;\n",
              "      flex-wrap:wrap;\n",
              "      gap: 12px;\n",
              "    }\n",
              "\n",
              "    .colab-df-convert {\n",
              "      background-color: #E8F0FE;\n",
              "      border: none;\n",
              "      border-radius: 50%;\n",
              "      cursor: pointer;\n",
              "      display: none;\n",
              "      fill: #1967D2;\n",
              "      height: 32px;\n",
              "      padding: 0 0 0 0;\n",
              "      width: 32px;\n",
              "    }\n",
              "\n",
              "    .colab-df-convert:hover {\n",
              "      background-color: #E2EBFA;\n",
              "      box-shadow: 0px 1px 2px rgba(60, 64, 67, 0.3), 0px 1px 3px 1px rgba(60, 64, 67, 0.15);\n",
              "      fill: #174EA6;\n",
              "    }\n",
              "\n",
              "    [theme=dark] .colab-df-convert {\n",
              "      background-color: #3B4455;\n",
              "      fill: #D2E3FC;\n",
              "    }\n",
              "\n",
              "    [theme=dark] .colab-df-convert:hover {\n",
              "      background-color: #434B5C;\n",
              "      box-shadow: 0px 1px 3px 1px rgba(0, 0, 0, 0.15);\n",
              "      filter: drop-shadow(0px 1px 2px rgba(0, 0, 0, 0.3));\n",
              "      fill: #FFFFFF;\n",
              "    }\n",
              "  </style>\n",
              "\n",
              "      <script>\n",
              "        const buttonEl =\n",
              "          document.querySelector('#df-5e1e1b94-8d66-47a8-9603-19e47214f814 button.colab-df-convert');\n",
              "        buttonEl.style.display =\n",
              "          google.colab.kernel.accessAllowed ? 'block' : 'none';\n",
              "\n",
              "        async function convertToInteractive(key) {\n",
              "          const element = document.querySelector('#df-5e1e1b94-8d66-47a8-9603-19e47214f814');\n",
              "          const dataTable =\n",
              "            await google.colab.kernel.invokeFunction('convertToInteractive',\n",
              "                                                     [key], {});\n",
              "          if (!dataTable) return;\n",
              "\n",
              "          const docLinkHtml = 'Like what you see? Visit the ' +\n",
              "            '<a target=\"_blank\" href=https://colab.research.google.com/notebooks/data_table.ipynb>data table notebook</a>'\n",
              "            + ' to learn more about interactive tables.';\n",
              "          element.innerHTML = '';\n",
              "          dataTable['output_type'] = 'display_data';\n",
              "          await google.colab.output.renderOutput(dataTable, element);\n",
              "          const docLink = document.createElement('div');\n",
              "          docLink.innerHTML = docLinkHtml;\n",
              "          element.appendChild(docLink);\n",
              "        }\n",
              "      </script>\n",
              "    </div>\n",
              "  </div>\n",
              "  "
            ]
          },
          "metadata": {},
          "execution_count": 9
        }
      ]
    },
    {
      "cell_type": "code",
      "source": [
        "selecao.dtypes"
      ],
      "metadata": {
        "execution": {
          "iopub.status.busy": "2022-10-20T19:42:41.727101Z",
          "iopub.execute_input": "2022-10-20T19:42:41.727739Z",
          "iopub.status.idle": "2022-10-20T19:42:41.734884Z",
          "shell.execute_reply.started": "2022-10-20T19:42:41.727692Z",
          "shell.execute_reply": "2022-10-20T19:42:41.734021Z"
        },
        "trusted": true,
        "colab": {
          "base_uri": "https://localhost:8080/"
        },
        "id": "7ChrvGiUue6l",
        "outputId": "a77a3637-3d12-4c22-8dae-f69c61158bdc"
      },
      "execution_count": 10,
      "outputs": [
        {
          "output_type": "execute_result",
          "data": {
            "text/plain": [
              "StyleID            int64\n",
              "Size(L)          float64\n",
              "OG               float64\n",
              "FG               float64\n",
              "ABV              float64\n",
              "IBU              float64\n",
              "Color            float64\n",
              "BoilSize         float64\n",
              "BoilTime         float64\n",
              "BoilGravity      float64\n",
              "Efficiency       float64\n",
              "MashThickness    float64\n",
              "SugarScale        object\n",
              "BrewMethod        object\n",
              "PitchRate        float64\n",
              "PrimaryTemp      float64\n",
              "dtype: object"
            ]
          },
          "metadata": {},
          "execution_count": 10
        }
      ]
    },
    {
      "cell_type": "code",
      "source": [
        "selecao['SugarScale'].value_counts()"
      ],
      "metadata": {
        "execution": {
          "iopub.status.busy": "2022-10-20T19:42:41.736047Z",
          "iopub.execute_input": "2022-10-20T19:42:41.736332Z",
          "iopub.status.idle": "2022-10-20T19:42:41.748512Z",
          "shell.execute_reply.started": "2022-10-20T19:42:41.736296Z",
          "shell.execute_reply": "2022-10-20T19:42:41.747544Z"
        },
        "trusted": true,
        "colab": {
          "base_uri": "https://localhost:8080/"
        },
        "id": "3CADD0srue6m",
        "outputId": "d9e31349-a21d-40df-a769-9feefcc75b8a"
      },
      "execution_count": 11,
      "outputs": [
        {
          "output_type": "execute_result",
          "data": {
            "text/plain": [
              "Specific Gravity    7083\n",
              "Plato                188\n",
              "Name: SugarScale, dtype: int64"
            ]
          },
          "metadata": {},
          "execution_count": 11
        }
      ]
    },
    {
      "cell_type": "code",
      "source": [
        "selecao['BrewMethod'].value_counts()"
      ],
      "metadata": {
        "execution": {
          "iopub.status.busy": "2022-10-20T19:42:41.749663Z",
          "iopub.execute_input": "2022-10-20T19:42:41.749968Z",
          "iopub.status.idle": "2022-10-20T19:42:41.763258Z",
          "shell.execute_reply.started": "2022-10-20T19:42:41.749932Z",
          "shell.execute_reply": "2022-10-20T19:42:41.762530Z"
        },
        "trusted": true,
        "colab": {
          "base_uri": "https://localhost:8080/"
        },
        "id": "X5mq4yGkue6m",
        "outputId": "a6745e83-d9d5-4175-8537-98e67ae9af51"
      },
      "execution_count": 12,
      "outputs": [
        {
          "output_type": "execute_result",
          "data": {
            "text/plain": [
              "All Grain       4709\n",
              "extract         1068\n",
              "BIAB            1030\n",
              "Partial Mash     464\n",
              "Name: BrewMethod, dtype: int64"
            ]
          },
          "metadata": {},
          "execution_count": 12
        }
      ]
    },
    {
      "cell_type": "code",
      "source": [
        "selecao['SugarScale'] = selecao['SugarScale'].replace('Specific Gravity', 0)\n",
        "selecao['SugarScale'] = selecao['SugarScale'].replace('Plato', 1)"
      ],
      "metadata": {
        "execution": {
          "iopub.status.busy": "2022-10-20T19:42:41.764582Z",
          "iopub.execute_input": "2022-10-20T19:42:41.765021Z",
          "iopub.status.idle": "2022-10-20T19:42:41.789024Z",
          "shell.execute_reply.started": "2022-10-20T19:42:41.764984Z",
          "shell.execute_reply": "2022-10-20T19:42:41.788250Z"
        },
        "trusted": true,
        "colab": {
          "base_uri": "https://localhost:8080/"
        },
        "id": "CbPYqpepue6n",
        "outputId": "c670fff6-fc13-481c-9f55-98fb43a81f51"
      },
      "execution_count": 13,
      "outputs": [
        {
          "output_type": "stream",
          "name": "stderr",
          "text": [
            "/usr/local/lib/python3.7/dist-packages/ipykernel_launcher.py:1: SettingWithCopyWarning: \n",
            "A value is trying to be set on a copy of a slice from a DataFrame.\n",
            "Try using .loc[row_indexer,col_indexer] = value instead\n",
            "\n",
            "See the caveats in the documentation: https://pandas.pydata.org/pandas-docs/stable/user_guide/indexing.html#returning-a-view-versus-a-copy\n",
            "  \"\"\"Entry point for launching an IPython kernel.\n",
            "/usr/local/lib/python3.7/dist-packages/ipykernel_launcher.py:2: SettingWithCopyWarning: \n",
            "A value is trying to be set on a copy of a slice from a DataFrame.\n",
            "Try using .loc[row_indexer,col_indexer] = value instead\n",
            "\n",
            "See the caveats in the documentation: https://pandas.pydata.org/pandas-docs/stable/user_guide/indexing.html#returning-a-view-versus-a-copy\n",
            "  \n"
          ]
        }
      ]
    },
    {
      "cell_type": "code",
      "source": [
        "brew_method_encoding = pd.get_dummies(selecao['BrewMethod'])\n",
        "\n",
        "selecao.drop('BrewMethod', axis = 1, inplace = True)\n",
        "\n",
        "concatenado = pd.concat([selecao,brew_method_encoding], axis = 1)"
      ],
      "metadata": {
        "execution": {
          "iopub.status.busy": "2022-10-20T19:42:41.790149Z",
          "iopub.execute_input": "2022-10-20T19:42:41.790395Z",
          "iopub.status.idle": "2022-10-20T19:42:41.808452Z",
          "shell.execute_reply.started": "2022-10-20T19:42:41.790368Z",
          "shell.execute_reply": "2022-10-20T19:42:41.807616Z"
        },
        "trusted": true,
        "colab": {
          "base_uri": "https://localhost:8080/"
        },
        "id": "XjVZVNnlue6o",
        "outputId": "c6dee46d-dc76-43ed-e0b1-ddd89225cfd5"
      },
      "execution_count": 14,
      "outputs": [
        {
          "output_type": "stream",
          "name": "stderr",
          "text": [
            "/usr/local/lib/python3.7/dist-packages/pandas/core/frame.py:4913: SettingWithCopyWarning: \n",
            "A value is trying to be set on a copy of a slice from a DataFrame\n",
            "\n",
            "See the caveats in the documentation: https://pandas.pydata.org/pandas-docs/stable/user_guide/indexing.html#returning-a-view-versus-a-copy\n",
            "  errors=errors,\n"
          ]
        }
      ]
    },
    {
      "cell_type": "code",
      "source": [
        "concatenado.head()"
      ],
      "metadata": {
        "execution": {
          "iopub.status.busy": "2022-10-20T19:42:41.809408Z",
          "iopub.execute_input": "2022-10-20T19:42:41.809703Z",
          "iopub.status.idle": "2022-10-20T19:42:41.831950Z",
          "shell.execute_reply.started": "2022-10-20T19:42:41.809677Z",
          "shell.execute_reply": "2022-10-20T19:42:41.831162Z"
        },
        "trusted": true,
        "colab": {
          "base_uri": "https://localhost:8080/",
          "height": 287
        },
        "id": "lYcFRB9pue6p",
        "outputId": "de38b5e8-d79b-45e8-ef7c-12aa7d4ce28a"
      },
      "execution_count": 15,
      "outputs": [
        {
          "output_type": "execute_result",
          "data": {
            "text/plain": [
              "   StyleID  Size(L)     OG     FG   ABV     IBU  Color  BoilSize  BoilTime  \\\n",
              "2        7    18.93  1.063  1.018  5.91   59.25   8.98     22.71      60.0   \n",
              "3        7    22.71  1.061  1.017  5.80   54.48   8.50     26.50      60.0   \n",
              "5       10    24.61  1.055  1.013  5.58   40.12   8.00     29.34      70.0   \n",
              "6       86    22.71  1.072  1.018  7.09  268.71   6.33     30.28      90.0   \n",
              "9       86    20.82  1.080  1.017  8.22   93.02   8.29     28.39      60.0   \n",
              "\n",
              "   BoilGravity  Efficiency  MashThickness  SugarScale  PitchRate  PrimaryTemp  \\\n",
              "2          NaN        70.0            NaN           0        NaN          NaN   \n",
              "3          NaN        70.0            NaN           0        NaN          NaN   \n",
              "5        1.047        79.0            NaN           0        1.0          NaN   \n",
              "6          NaN        75.0            NaN           0        NaN          NaN   \n",
              "9        1.058        70.0            NaN           0        NaN        21.11   \n",
              "\n",
              "   All Grain  BIAB  Partial Mash  extract  \n",
              "2          0     0             0        1  \n",
              "3          1     0             0        0  \n",
              "5          1     0             0        0  \n",
              "6          1     0             0        0  \n",
              "9          1     0             0        0  "
            ],
            "text/html": [
              "\n",
              "  <div id=\"df-9bf94085-85b2-4c9a-b4bb-4ff21ecc9aca\">\n",
              "    <div class=\"colab-df-container\">\n",
              "      <div>\n",
              "<style scoped>\n",
              "    .dataframe tbody tr th:only-of-type {\n",
              "        vertical-align: middle;\n",
              "    }\n",
              "\n",
              "    .dataframe tbody tr th {\n",
              "        vertical-align: top;\n",
              "    }\n",
              "\n",
              "    .dataframe thead th {\n",
              "        text-align: right;\n",
              "    }\n",
              "</style>\n",
              "<table border=\"1\" class=\"dataframe\">\n",
              "  <thead>\n",
              "    <tr style=\"text-align: right;\">\n",
              "      <th></th>\n",
              "      <th>StyleID</th>\n",
              "      <th>Size(L)</th>\n",
              "      <th>OG</th>\n",
              "      <th>FG</th>\n",
              "      <th>ABV</th>\n",
              "      <th>IBU</th>\n",
              "      <th>Color</th>\n",
              "      <th>BoilSize</th>\n",
              "      <th>BoilTime</th>\n",
              "      <th>BoilGravity</th>\n",
              "      <th>Efficiency</th>\n",
              "      <th>MashThickness</th>\n",
              "      <th>SugarScale</th>\n",
              "      <th>PitchRate</th>\n",
              "      <th>PrimaryTemp</th>\n",
              "      <th>All Grain</th>\n",
              "      <th>BIAB</th>\n",
              "      <th>Partial Mash</th>\n",
              "      <th>extract</th>\n",
              "    </tr>\n",
              "  </thead>\n",
              "  <tbody>\n",
              "    <tr>\n",
              "      <th>2</th>\n",
              "      <td>7</td>\n",
              "      <td>18.93</td>\n",
              "      <td>1.063</td>\n",
              "      <td>1.018</td>\n",
              "      <td>5.91</td>\n",
              "      <td>59.25</td>\n",
              "      <td>8.98</td>\n",
              "      <td>22.71</td>\n",
              "      <td>60.0</td>\n",
              "      <td>NaN</td>\n",
              "      <td>70.0</td>\n",
              "      <td>NaN</td>\n",
              "      <td>0</td>\n",
              "      <td>NaN</td>\n",
              "      <td>NaN</td>\n",
              "      <td>0</td>\n",
              "      <td>0</td>\n",
              "      <td>0</td>\n",
              "      <td>1</td>\n",
              "    </tr>\n",
              "    <tr>\n",
              "      <th>3</th>\n",
              "      <td>7</td>\n",
              "      <td>22.71</td>\n",
              "      <td>1.061</td>\n",
              "      <td>1.017</td>\n",
              "      <td>5.80</td>\n",
              "      <td>54.48</td>\n",
              "      <td>8.50</td>\n",
              "      <td>26.50</td>\n",
              "      <td>60.0</td>\n",
              "      <td>NaN</td>\n",
              "      <td>70.0</td>\n",
              "      <td>NaN</td>\n",
              "      <td>0</td>\n",
              "      <td>NaN</td>\n",
              "      <td>NaN</td>\n",
              "      <td>1</td>\n",
              "      <td>0</td>\n",
              "      <td>0</td>\n",
              "      <td>0</td>\n",
              "    </tr>\n",
              "    <tr>\n",
              "      <th>5</th>\n",
              "      <td>10</td>\n",
              "      <td>24.61</td>\n",
              "      <td>1.055</td>\n",
              "      <td>1.013</td>\n",
              "      <td>5.58</td>\n",
              "      <td>40.12</td>\n",
              "      <td>8.00</td>\n",
              "      <td>29.34</td>\n",
              "      <td>70.0</td>\n",
              "      <td>1.047</td>\n",
              "      <td>79.0</td>\n",
              "      <td>NaN</td>\n",
              "      <td>0</td>\n",
              "      <td>1.0</td>\n",
              "      <td>NaN</td>\n",
              "      <td>1</td>\n",
              "      <td>0</td>\n",
              "      <td>0</td>\n",
              "      <td>0</td>\n",
              "    </tr>\n",
              "    <tr>\n",
              "      <th>6</th>\n",
              "      <td>86</td>\n",
              "      <td>22.71</td>\n",
              "      <td>1.072</td>\n",
              "      <td>1.018</td>\n",
              "      <td>7.09</td>\n",
              "      <td>268.71</td>\n",
              "      <td>6.33</td>\n",
              "      <td>30.28</td>\n",
              "      <td>90.0</td>\n",
              "      <td>NaN</td>\n",
              "      <td>75.0</td>\n",
              "      <td>NaN</td>\n",
              "      <td>0</td>\n",
              "      <td>NaN</td>\n",
              "      <td>NaN</td>\n",
              "      <td>1</td>\n",
              "      <td>0</td>\n",
              "      <td>0</td>\n",
              "      <td>0</td>\n",
              "    </tr>\n",
              "    <tr>\n",
              "      <th>9</th>\n",
              "      <td>86</td>\n",
              "      <td>20.82</td>\n",
              "      <td>1.080</td>\n",
              "      <td>1.017</td>\n",
              "      <td>8.22</td>\n",
              "      <td>93.02</td>\n",
              "      <td>8.29</td>\n",
              "      <td>28.39</td>\n",
              "      <td>60.0</td>\n",
              "      <td>1.058</td>\n",
              "      <td>70.0</td>\n",
              "      <td>NaN</td>\n",
              "      <td>0</td>\n",
              "      <td>NaN</td>\n",
              "      <td>21.11</td>\n",
              "      <td>1</td>\n",
              "      <td>0</td>\n",
              "      <td>0</td>\n",
              "      <td>0</td>\n",
              "    </tr>\n",
              "  </tbody>\n",
              "</table>\n",
              "</div>\n",
              "      <button class=\"colab-df-convert\" onclick=\"convertToInteractive('df-9bf94085-85b2-4c9a-b4bb-4ff21ecc9aca')\"\n",
              "              title=\"Convert this dataframe to an interactive table.\"\n",
              "              style=\"display:none;\">\n",
              "        \n",
              "  <svg xmlns=\"http://www.w3.org/2000/svg\" height=\"24px\"viewBox=\"0 0 24 24\"\n",
              "       width=\"24px\">\n",
              "    <path d=\"M0 0h24v24H0V0z\" fill=\"none\"/>\n",
              "    <path d=\"M18.56 5.44l.94 2.06.94-2.06 2.06-.94-2.06-.94-.94-2.06-.94 2.06-2.06.94zm-11 1L8.5 8.5l.94-2.06 2.06-.94-2.06-.94L8.5 2.5l-.94 2.06-2.06.94zm10 10l.94 2.06.94-2.06 2.06-.94-2.06-.94-.94-2.06-.94 2.06-2.06.94z\"/><path d=\"M17.41 7.96l-1.37-1.37c-.4-.4-.92-.59-1.43-.59-.52 0-1.04.2-1.43.59L10.3 9.45l-7.72 7.72c-.78.78-.78 2.05 0 2.83L4 21.41c.39.39.9.59 1.41.59.51 0 1.02-.2 1.41-.59l7.78-7.78 2.81-2.81c.8-.78.8-2.07 0-2.86zM5.41 20L4 18.59l7.72-7.72 1.47 1.35L5.41 20z\"/>\n",
              "  </svg>\n",
              "      </button>\n",
              "      \n",
              "  <style>\n",
              "    .colab-df-container {\n",
              "      display:flex;\n",
              "      flex-wrap:wrap;\n",
              "      gap: 12px;\n",
              "    }\n",
              "\n",
              "    .colab-df-convert {\n",
              "      background-color: #E8F0FE;\n",
              "      border: none;\n",
              "      border-radius: 50%;\n",
              "      cursor: pointer;\n",
              "      display: none;\n",
              "      fill: #1967D2;\n",
              "      height: 32px;\n",
              "      padding: 0 0 0 0;\n",
              "      width: 32px;\n",
              "    }\n",
              "\n",
              "    .colab-df-convert:hover {\n",
              "      background-color: #E2EBFA;\n",
              "      box-shadow: 0px 1px 2px rgba(60, 64, 67, 0.3), 0px 1px 3px 1px rgba(60, 64, 67, 0.15);\n",
              "      fill: #174EA6;\n",
              "    }\n",
              "\n",
              "    [theme=dark] .colab-df-convert {\n",
              "      background-color: #3B4455;\n",
              "      fill: #D2E3FC;\n",
              "    }\n",
              "\n",
              "    [theme=dark] .colab-df-convert:hover {\n",
              "      background-color: #434B5C;\n",
              "      box-shadow: 0px 1px 3px 1px rgba(0, 0, 0, 0.15);\n",
              "      filter: drop-shadow(0px 1px 2px rgba(0, 0, 0, 0.3));\n",
              "      fill: #FFFFFF;\n",
              "    }\n",
              "  </style>\n",
              "\n",
              "      <script>\n",
              "        const buttonEl =\n",
              "          document.querySelector('#df-9bf94085-85b2-4c9a-b4bb-4ff21ecc9aca button.colab-df-convert');\n",
              "        buttonEl.style.display =\n",
              "          google.colab.kernel.accessAllowed ? 'block' : 'none';\n",
              "\n",
              "        async function convertToInteractive(key) {\n",
              "          const element = document.querySelector('#df-9bf94085-85b2-4c9a-b4bb-4ff21ecc9aca');\n",
              "          const dataTable =\n",
              "            await google.colab.kernel.invokeFunction('convertToInteractive',\n",
              "                                                     [key], {});\n",
              "          if (!dataTable) return;\n",
              "\n",
              "          const docLinkHtml = 'Like what you see? Visit the ' +\n",
              "            '<a target=\"_blank\" href=https://colab.research.google.com/notebooks/data_table.ipynb>data table notebook</a>'\n",
              "            + ' to learn more about interactive tables.';\n",
              "          element.innerHTML = '';\n",
              "          dataTable['output_type'] = 'display_data';\n",
              "          await google.colab.output.renderOutput(dataTable, element);\n",
              "          const docLink = document.createElement('div');\n",
              "          docLink.innerHTML = docLinkHtml;\n",
              "          element.appendChild(docLink);\n",
              "        }\n",
              "      </script>\n",
              "    </div>\n",
              "  </div>\n",
              "  "
            ]
          },
          "metadata": {},
          "execution_count": 15
        }
      ]
    },
    {
      "cell_type": "code",
      "source": [
        "faltantes = concatenado.isnull().sum()\n",
        "faltantes_percentual = (faltantes / len(concatenado['StyleID']))*100\n",
        "print(faltantes_percentual)"
      ],
      "metadata": {
        "execution": {
          "iopub.status.busy": "2022-10-20T19:42:41.833069Z",
          "iopub.execute_input": "2022-10-20T19:42:41.833743Z",
          "iopub.status.idle": "2022-10-20T19:42:41.844951Z",
          "shell.execute_reply.started": "2022-10-20T19:42:41.833703Z",
          "shell.execute_reply": "2022-10-20T19:42:41.844076Z"
        },
        "trusted": true,
        "colab": {
          "base_uri": "https://localhost:8080/"
        },
        "id": "XNCA2I1Hue6p",
        "outputId": "0680205e-142d-4d67-9c48-28d128e3a594"
      },
      "execution_count": 16,
      "outputs": [
        {
          "output_type": "stream",
          "name": "stdout",
          "text": [
            "StyleID           0.000000\n",
            "Size(L)           0.000000\n",
            "OG                0.000000\n",
            "FG                0.000000\n",
            "ABV               0.000000\n",
            "IBU               0.000000\n",
            "Color             0.000000\n",
            "BoilSize          0.000000\n",
            "BoilTime          0.000000\n",
            "BoilGravity      17.012791\n",
            "Efficiency        0.000000\n",
            "MashThickness    54.641727\n",
            "SugarScale        0.000000\n",
            "PitchRate        54.256636\n",
            "PrimaryTemp      33.681749\n",
            "All Grain         0.000000\n",
            "BIAB              0.000000\n",
            "Partial Mash      0.000000\n",
            "extract           0.000000\n",
            "dtype: float64\n"
          ]
        }
      ]
    },
    {
      "cell_type": "code",
      "source": [
        "import matplotlib.pyplot as plt\n",
        "concatenado.boxplot(column = ['BoilGravity', 'MashThickness', 'PitchRate', 'PrimaryTemp'])\n",
        "plt.show()"
      ],
      "metadata": {
        "execution": {
          "iopub.status.busy": "2022-10-20T19:42:41.846492Z",
          "iopub.execute_input": "2022-10-20T19:42:41.846787Z",
          "iopub.status.idle": "2022-10-20T19:42:42.184230Z",
          "shell.execute_reply.started": "2022-10-20T19:42:41.846750Z",
          "shell.execute_reply": "2022-10-20T19:42:42.183417Z"
        },
        "trusted": true,
        "colab": {
          "base_uri": "https://localhost:8080/",
          "height": 320
        },
        "id": "byNZNzxwue6q",
        "outputId": "2ecbef01-5555-499e-c19d-a09767d2b9c9"
      },
      "execution_count": 17,
      "outputs": [
        {
          "output_type": "stream",
          "name": "stderr",
          "text": [
            "/usr/local/lib/python3.7/dist-packages/matplotlib/cbook/__init__.py:1376: VisibleDeprecationWarning: Creating an ndarray from ragged nested sequences (which is a list-or-tuple of lists-or-tuples-or ndarrays with different lengths or shapes) is deprecated. If you meant to do this, you must specify 'dtype=object' when creating the ndarray.\n",
            "  X = np.atleast_1d(X.T if isinstance(X, np.ndarray) else np.asarray(X))\n"
          ]
        },
        {
          "output_type": "display_data",
          "data": {
            "text/plain": [
              "<Figure size 432x288 with 1 Axes>"
            ],
            "image/png": "[encoded data removed]"
          },
          "metadata": {
            "needs_background": "light"
          }
        }
      ]
    },
    {
      "cell_type": "code",
      "source": [
        "concatenado.hist(column = ['BoilGravity', 'MashThickness', 'PitchRate', 'PrimaryTemp'], bins = 20)\n",
        "plt.show()"
      ],
      "metadata": {
        "execution": {
          "iopub.status.busy": "2022-10-20T19:42:42.185251Z",
          "iopub.execute_input": "2022-10-20T19:42:42.185502Z",
          "iopub.status.idle": "2022-10-20T19:42:42.760838Z",
          "shell.execute_reply.started": "2022-10-20T19:42:42.185474Z",
          "shell.execute_reply": "2022-10-20T19:42:42.760020Z"
        },
        "trusted": true,
        "colab": {
          "base_uri": "https://localhost:8080/",
          "height": 281
        },
        "id": "MqEik54-ue6s",
        "outputId": "51bb7a6b-daf2-42a4-9909-a08a404cd39b"
      },
      "execution_count": 18,
      "outputs": [
        {
          "output_type": "display_data",
          "data": {
            "text/plain": [
              "<Figure size 432x288 with 4 Axes>"
            ],
            "image/png": "[encoded data removed]"
          },
          "metadata": {
            "needs_background": "light"
          }
        }
      ]
    },
    {
      "cell_type": "code",
      "source": [
        "concatenado['PitchRate'].fillna(concatenado['PitchRate'].mean(), inplace = True)\n",
        "concatenado.fillna(concatenado.median(), inplace = True)"
      ],
      "metadata": {
        "execution": {
          "iopub.status.busy": "2022-10-20T19:42:42.761903Z",
          "iopub.execute_input": "2022-10-20T19:42:42.762120Z",
          "iopub.status.idle": "2022-10-20T19:42:42.782234Z",
          "shell.execute_reply.started": "2022-10-20T19:42:42.762096Z",
          "shell.execute_reply": "2022-10-20T19:42:42.781630Z"
        },
        "trusted": true,
        "id": "7Q2zg47Eue6t"
      },
      "execution_count": 19,
      "outputs": []
    },
    {
      "cell_type": "code",
      "source": [
        "faltantes = concatenado.isnull().sum()\n",
        "faltantes_percentual = (faltantes / len(concatenado['StyleID']))*100\n",
        "print(faltantes_percentual)"
      ],
      "metadata": {
        "execution": {
          "iopub.status.busy": "2022-10-20T19:42:42.783304Z",
          "iopub.execute_input": "2022-10-20T19:42:42.783569Z",
          "iopub.status.idle": "2022-10-20T19:42:42.793945Z",
          "shell.execute_reply.started": "2022-10-20T19:42:42.783538Z",
          "shell.execute_reply": "2022-10-20T19:42:42.793108Z"
        },
        "trusted": true,
        "colab": {
          "base_uri": "https://localhost:8080/"
        },
        "id": "X5AeVVawue6u",
        "outputId": "df9c63c6-317c-480d-932c-797dff971862"
      },
      "execution_count": 20,
      "outputs": [
        {
          "output_type": "stream",
          "name": "stdout",
          "text": [
            "StyleID          0.0\n",
            "Size(L)          0.0\n",
            "OG               0.0\n",
            "FG               0.0\n",
            "ABV              0.0\n",
            "IBU              0.0\n",
            "Color            0.0\n",
            "BoilSize         0.0\n",
            "BoilTime         0.0\n",
            "BoilGravity      0.0\n",
            "Efficiency       0.0\n",
            "MashThickness    0.0\n",
            "SugarScale       0.0\n",
            "PitchRate        0.0\n",
            "PrimaryTemp      0.0\n",
            "All Grain        0.0\n",
            "BIAB             0.0\n",
            "Partial Mash     0.0\n",
            "extract          0.0\n",
            "dtype: float64\n"
          ]
        }
      ]
    },
    {
      "cell_type": "code",
      "source": [
        "x = concatenado.drop('StyleID', axis = 1)\n",
        "y = concatenado['StyleID']"
      ],
      "metadata": {
        "execution": {
          "iopub.status.busy": "2022-10-20T19:42:42.795156Z",
          "iopub.execute_input": "2022-10-20T19:42:42.795637Z",
          "iopub.status.idle": "2022-10-20T19:42:42.801864Z",
          "shell.execute_reply.started": "2022-10-20T19:42:42.795597Z",
          "shell.execute_reply": "2022-10-20T19:42:42.801059Z"
        },
        "trusted": true,
        "id": "9B1I7yiIue6v"
      },
      "execution_count": 21,
      "outputs": []
    },
    {
      "cell_type": "code",
      "source": [
        "def modelosclassificacao(a, b):\n",
        "    from sklearn.linear_model import LogisticRegression\n",
        "    from sklearn.naive_bayes import GaussianNB\n",
        "    from sklearn.tree import DecisionTreeClassifier\n",
        "    from sklearn.neighbors import KNeighborsClassifier\n",
        "    from sklearn.preprocessing import MinMaxScaler\n",
        "    from sklearn.model_selection import StratifiedKFold\n",
        "    from sklearn.model_selection import cross_val_score\n",
        "    skfold = StratifiedKFold(n_splits = 5)\n",
        "    x = a\n",
        "    y = b\n",
        "    \n",
        "    normalizador = MinMaxScaler(feature_range = (0,1))\n",
        "    x_norm = normalizador.fit_transform(x)\n",
        "    \n",
        "    logist = LogisticRegression()\n",
        "    naive = GaussianNB()\n",
        "    decisiontree = DecisionTreeClassifier()\n",
        "    knn = KNeighborsClassifier()\n",
        "    resul_logist = cross_val_score(logist, x, y, cv = skfold)\n",
        "    resul_naive = cross_val_score(naive, x, y, cv = skfold)\n",
        "    resul_decisiontree = cross_val_score(decisiontree, x, y, cv = skfold)\n",
        "    resul_knn = cross_val_score(knn, x_norm, y, cv = skfold)\n",
        "    dic_classmodels = {'Logística': resul_logist.mean(), 'Naive': resul_naive.mean(), 'Decision Tree': resul_decisiontree.mean(), 'KNN': resul_knn.mean()}\n",
        "    melhor_modelo = max(dic_classmodels, key = dic_classmodels.get)\n",
        "    print('Regressão Logística: ', resul_logist.mean(), 'Naive Bayes: ', resul_naive.mean(), 'Decision Tree: ', resul_decisiontree.mean(), 'KNN: ', resul_knn.mean())\n",
        "    print('O melhor modelo foi:', melhor_modelo, 'com o valor: ', dic_classmodels[melhor_modelo])\n",
        "                "
      ],
      "metadata": {
        "execution": {
          "iopub.status.busy": "2022-10-20T19:42:42.803379Z",
          "iopub.execute_input": "2022-10-20T19:42:42.803647Z",
          "iopub.status.idle": "2022-10-20T19:42:42.812724Z",
          "shell.execute_reply.started": "2022-10-20T19:42:42.803621Z",
          "shell.execute_reply": "2022-10-20T19:42:42.811934Z"
        },
        "trusted": true,
        "id": "X46Ien26ue6w"
      },
      "execution_count": 22,
      "outputs": []
    },
    {
      "cell_type": "code",
      "source": [
        "modelosclassificacao(x, y)"
      ],
      "metadata": {
        "execution": {
          "iopub.status.busy": "2022-10-20T19:42:42.813751Z",
          "iopub.execute_input": "2022-10-20T19:42:42.813958Z",
          "iopub.status.idle": "2022-10-20T19:43:24.838451Z",
          "shell.execute_reply.started": "2022-10-20T19:42:42.813935Z",
          "shell.execute_reply": "2022-10-20T19:43:24.837558Z"
        },
        "trusted": true,
        "colab": {
          "base_uri": "https://localhost:8080/"
        },
        "id": "6eyYdytfue6x",
        "outputId": "ef1ff51d-c8c5-4b00-b5dd-f46c808397da"
      },
      "execution_count": 23,
      "outputs": [
        {
          "output_type": "stream",
          "name": "stderr",
          "text": [
            "/usr/local/lib/python3.7/dist-packages/sklearn/linear_model/_logistic.py:818: ConvergenceWarning: lbfgs failed to converge (status=1):\n",
            "STOP: TOTAL NO. of ITERATIONS REACHED LIMIT.\n",
            "\n",
            "Increase the number of iterations (max_iter) or scale the data as shown in:\n",
            "    https://scikit-learn.org/stable/modules/preprocessing.html\n",
            "Please also refer to the documentation for alternative solver options:\n",
            "    https://scikit-learn.org/stable/modules/linear_model.html#logistic-regression\n",
            "  extra_warning_msg=_LOGISTIC_SOLVER_CONVERGENCE_MSG,\n",
            "/usr/local/lib/python3.7/dist-packages/sklearn/linear_model/_logistic.py:818: ConvergenceWarning: lbfgs failed to converge (status=1):\n",
            "STOP: TOTAL NO. of ITERATIONS REACHED LIMIT.\n",
            "\n",
            "Increase the number of iterations (max_iter) or scale the data as shown in:\n",
            "    https://scikit-learn.org/stable/modules/preprocessing.html\n",
            "Please also refer to the documentation for alternative solver options:\n",
            "    https://scikit-learn.org/stable/modules/linear_model.html#logistic-regression\n",
            "  extra_warning_msg=_LOGISTIC_SOLVER_CONVERGENCE_MSG,\n",
            "/usr/local/lib/python3.7/dist-packages/sklearn/linear_model/_logistic.py:818: ConvergenceWarning: lbfgs failed to converge (status=1):\n",
            "STOP: TOTAL NO. of ITERATIONS REACHED LIMIT.\n",
            "\n",
            "Increase the number of iterations (max_iter) or scale the data as shown in:\n",
            "    https://scikit-learn.org/stable/modules/preprocessing.html\n",
            "Please also refer to the documentation for alternative solver options:\n",
            "    https://scikit-learn.org/stable/modules/linear_model.html#logistic-regression\n",
            "  extra_warning_msg=_LOGISTIC_SOLVER_CONVERGENCE_MSG,\n",
            "/usr/local/lib/python3.7/dist-packages/sklearn/linear_model/_logistic.py:818: ConvergenceWarning: lbfgs failed to converge (status=1):\n",
            "STOP: TOTAL NO. of ITERATIONS REACHED LIMIT.\n",
            "\n",
            "Increase the number of iterations (max_iter) or scale the data as shown in:\n",
            "    https://scikit-learn.org/stable/modules/preprocessing.html\n",
            "Please also refer to the documentation for alternative solver options:\n",
            "    https://scikit-learn.org/stable/modules/linear_model.html#logistic-regression\n",
            "  extra_warning_msg=_LOGISTIC_SOLVER_CONVERGENCE_MSG,\n",
            "/usr/local/lib/python3.7/dist-packages/sklearn/linear_model/_logistic.py:818: ConvergenceWarning: lbfgs failed to converge (status=1):\n",
            "STOP: TOTAL NO. of ITERATIONS REACHED LIMIT.\n",
            "\n",
            "Increase the number of iterations (max_iter) or scale the data as shown in:\n",
            "    https://scikit-learn.org/stable/modules/preprocessing.html\n",
            "Please also refer to the documentation for alternative solver options:\n",
            "    https://scikit-learn.org/stable/modules/linear_model.html#logistic-regression\n",
            "  extra_warning_msg=_LOGISTIC_SOLVER_CONVERGENCE_MSG,\n"
          ]
        },
        {
          "output_type": "stream",
          "name": "stdout",
          "text": [
            "Regressão Logística:  0.4420276332146892 Naive Bayes:  0.26309675406627997 Decision Tree:  0.5149208014861244 KNN:  0.4612831530036822\n",
            "O melhor modelo foi: Decision Tree com o valor:  0.5149208014861244\n"
          ]
        }
      ]
    },
    {
      "cell_type": "code",
      "source": [
        "import numpy as np\n",
        "from sklearn.neighbors import KNeighborsClassifier\n",
        "from sklearn.preprocessing import MinMaxScaler\n",
        "from sklearn.model_selection import GridSearchCV\n",
        "\n",
        "normalizador = MinMaxScaler(feature_range = (0,1))\n",
        "X_norm = normalizador.fit_transform(x)\n",
        "\n",
        "valores_K = np.array([3,5,7,9])\n",
        "calculo_distancia = ['minkowski', 'chebyshev']\n",
        "valores_p = np.array([1,2,3])\n",
        "valores_grid = {'n_neighbors': valores_K, 'metric': calculo_distancia, 'p': valores_p}\n",
        "\n",
        "modelo = KNeighborsClassifier()\n",
        "\n",
        "gridKNN = GridSearchCV(estimator = modelo, param_grid = valores_grid, cv = 3, n_jobs = -1)\n",
        "gridKNN.fit(X_norm, y)\n",
        "\n",
        "print('Melhor acurácia: ', gridKNN.best_score_)\n",
        "print('Melhor K: ', gridKNN.best_estimator_.n_neighbors)\n",
        "print('Melhor acurácia: ', gridKNN.best_estimator_.metric)\n",
        "print('Melhor acurácia: ', gridKNN.best_estimator_.p)"
      ],
      "metadata": {
        "execution": {
          "iopub.status.busy": "2022-10-20T19:43:24.839913Z",
          "iopub.execute_input": "2022-10-20T19:43:24.840312Z",
          "iopub.status.idle": "2022-10-20T19:47:34.330035Z",
          "shell.execute_reply.started": "2022-10-20T19:43:24.840270Z",
          "shell.execute_reply": "2022-10-20T19:47:34.329008Z"
        },
        "trusted": true,
        "colab": {
          "base_uri": "https://localhost:8080/"
        },
        "id": "n_LJOM0yue6z",
        "outputId": "365779f3-b74f-4d82-ce21-ad30ac33d7db"
      },
      "execution_count": 24,
      "outputs": [
        {
          "output_type": "stream",
          "name": "stdout",
          "text": [
            "Melhor acurácia:  0.48700293574549364\n",
            "Melhor K:  7\n",
            "Melhor acurácia:  minkowski\n",
            "Melhor acurácia:  1\n"
          ]
        }
      ]
    },
    {
      "cell_type": "code",
      "source": [
        "from sklearn.ensemble import GradientBoostingClassifier\n",
        "from sklearn.model_selection import StratifiedKFold\n",
        "from sklearn.model_selection import cross_val_score\n",
        "\n",
        "modelo_boost = GradientBoostingClassifier(n_estimators = 300)\n",
        "skfold_boost = StratifiedKFold(n_splits = 3)\n",
        "resultado_boost = cross_val_score(modelo_boost, x, y, cv = skfold_boost, n_jobs = -1)\n",
        "print(resultado_boost.mean())"
      ],
      "metadata": {
        "execution": {
          "iopub.status.busy": "2022-10-20T19:47:34.331998Z",
          "iopub.execute_input": "2022-10-20T19:47:34.332345Z",
          "iopub.status.idle": "2022-10-20T19:52:09.227674Z",
          "shell.execute_reply.started": "2022-10-20T19:47:34.332302Z",
          "shell.execute_reply": "2022-10-20T19:52:09.226902Z"
        },
        "trusted": true,
        "colab": {
          "base_uri": "https://localhost:8080/"
        },
        "id": "hq9a5MfNue6z",
        "outputId": "1f1ea0bc-a5f3-4e82-c4f9-f05f9db2d244"
      },
      "execution_count": 25,
      "outputs": [
        {
          "output_type": "stream",
          "name": "stdout",
          "text": [
            "0.6195843531938832\n"
          ]
        }
      ]
    }
  ]
}